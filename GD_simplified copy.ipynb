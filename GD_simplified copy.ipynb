{
 "cells": [
  {
   "cell_type": "markdown",
   "metadata": {},
   "source": [
    "### Import dependencies"
   ]
  },
  {
   "cell_type": "code",
   "execution_count": 1,
   "metadata": {},
   "outputs": [],
   "source": [
    "import pandas as pd\n",
    "import numpy as np\n",
    "import matplotlib.pyplot as plt"
   ]
  },
  {
   "cell_type": "code",
   "execution_count": 2,
   "metadata": {},
   "outputs": [
    {
     "data": {
      "text/html": [
       "<div>\n",
       "<style scoped>\n",
       "    .dataframe tbody tr th:only-of-type {\n",
       "        vertical-align: middle;\n",
       "    }\n",
       "\n",
       "    .dataframe tbody tr th {\n",
       "        vertical-align: top;\n",
       "    }\n",
       "\n",
       "    .dataframe thead th {\n",
       "        text-align: right;\n",
       "    }\n",
       "</style>\n",
       "<table border=\"1\" class=\"dataframe\">\n",
       "  <thead>\n",
       "    <tr style=\"text-align: right;\">\n",
       "      <th></th>\n",
       "      <th>max_floor</th>\n",
       "      <th>num_rooms</th>\n",
       "      <th>area</th>\n",
       "      <th>floor</th>\n",
       "      <th>ceiling_height</th>\n",
       "      <th>price</th>\n",
       "    </tr>\n",
       "  </thead>\n",
       "  <tbody>\n",
       "    <tr>\n",
       "      <th>0</th>\n",
       "      <td>11</td>\n",
       "      <td>2</td>\n",
       "      <td>67.0</td>\n",
       "      <td>9</td>\n",
       "      <td>3.0</td>\n",
       "      <td>72000.0</td>\n",
       "    </tr>\n",
       "    <tr>\n",
       "      <th>1</th>\n",
       "      <td>5</td>\n",
       "      <td>3</td>\n",
       "      <td>75.0</td>\n",
       "      <td>2</td>\n",
       "      <td>3.2</td>\n",
       "      <td>80000.0</td>\n",
       "    </tr>\n",
       "    <tr>\n",
       "      <th>2</th>\n",
       "      <td>4</td>\n",
       "      <td>4</td>\n",
       "      <td>140.0</td>\n",
       "      <td>4</td>\n",
       "      <td>2.8</td>\n",
       "      <td>204000.0</td>\n",
       "    </tr>\n",
       "    <tr>\n",
       "      <th>3</th>\n",
       "      <td>5</td>\n",
       "      <td>3</td>\n",
       "      <td>79.0</td>\n",
       "      <td>3</td>\n",
       "      <td>2.8</td>\n",
       "      <td>68000.0</td>\n",
       "    </tr>\n",
       "    <tr>\n",
       "      <th>4</th>\n",
       "      <td>9</td>\n",
       "      <td>1</td>\n",
       "      <td>45.0</td>\n",
       "      <td>2</td>\n",
       "      <td>2.8</td>\n",
       "      <td>39000.0</td>\n",
       "    </tr>\n",
       "  </tbody>\n",
       "</table>\n",
       "</div>"
      ],
      "text/plain": [
       "   max_floor  num_rooms   area  floor  ceiling_height     price\n",
       "0         11          2   67.0      9             3.0   72000.0\n",
       "1          5          3   75.0      2             3.2   80000.0\n",
       "2          4          4  140.0      4             2.8  204000.0\n",
       "3          5          3   79.0      3             2.8   68000.0\n",
       "4          9          1   45.0      2             2.8   39000.0"
      ]
     },
     "execution_count": 2,
     "metadata": {},
     "output_type": "execute_result"
    }
   ],
   "source": [
    "#Getting the data \n",
    "data = pd.read_csv('tr_copy.csv')\n",
    "\n",
    "#Separating only numeric columns\n",
    "data = data[['max_floor','num_rooms','area','floor','ceiling_height','price']]\n",
    "\n",
    "# Show the first 5 rows of the result dataframe\n",
    "data.head()"
   ]
  },
  {
   "cell_type": "code",
   "execution_count": 3,
   "metadata": {},
   "outputs": [
    {
     "data": {
      "image/png": "[encoded data removed]",
      "text/plain": [
       "<Figure size 432x288 with 1 Axes>"
      ]
     },
     "metadata": {
      "needs_background": "light"
     },
     "output_type": "display_data"
    }
   ],
   "source": [
    "a = data[['area','price']].iloc[:15]\n",
    "\n",
    "# import plotly\n",
    "# import plotly.plotly as py\n",
    "# import plotly.graph_objs as go\n",
    "\n",
    "# # Create a trace\n",
    "# trace = go.Scatter(\n",
    "#     x = a['area'],\n",
    "#     y = a['price'],\n",
    "#     mode = 'markers'\n",
    "# )\n",
    "\n",
    "# data = [trace]\n",
    "\n",
    "# py.iplot(data, filename='basic-scatter')\n",
    "\n",
    "plt.scatter(a['area'],a['price']);"
   ]
  },
  {
   "cell_type": "code",
   "execution_count": 4,
   "metadata": {},
   "outputs": [
    {
     "name": "stdout",
     "output_type": "stream",
     "text": [
      "[67.0, 75.0, 140.0, 79.0, 45.0, 100.0, 92.0, 85.0, 93.0, 97.0, 76.0, 120.0, 65.0, 105.0, 78.0]\n"
     ]
    }
   ],
   "source": [
    "print(list(a['area']))\n"
   ]
  },
  {
   "cell_type": "code",
   "execution_count": 5,
   "metadata": {},
   "outputs": [
    {
     "data": {
      "text/html": [
       "<div>\n",
       "<style scoped>\n",
       "    .dataframe tbody tr th:only-of-type {\n",
       "        vertical-align: middle;\n",
       "    }\n",
       "\n",
       "    .dataframe tbody tr th {\n",
       "        vertical-align: top;\n",
       "    }\n",
       "\n",
       "    .dataframe thead th {\n",
       "        text-align: right;\n",
       "    }\n",
       "</style>\n",
       "<table border=\"1\" class=\"dataframe\">\n",
       "  <thead>\n",
       "    <tr style=\"text-align: right;\">\n",
       "      <th></th>\n",
       "      <th>theta_zero</th>\n",
       "      <th>max_floor</th>\n",
       "      <th>num_rooms</th>\n",
       "      <th>area</th>\n",
       "      <th>floor</th>\n",
       "      <th>ceiling_height</th>\n",
       "    </tr>\n",
       "  </thead>\n",
       "  <tbody>\n",
       "    <tr>\n",
       "      <th>0</th>\n",
       "      <td>1.0</td>\n",
       "      <td>11</td>\n",
       "      <td>2</td>\n",
       "      <td>67.0</td>\n",
       "      <td>9</td>\n",
       "      <td>3.0</td>\n",
       "    </tr>\n",
       "    <tr>\n",
       "      <th>1</th>\n",
       "      <td>1.0</td>\n",
       "      <td>5</td>\n",
       "      <td>3</td>\n",
       "      <td>75.0</td>\n",
       "      <td>2</td>\n",
       "      <td>3.2</td>\n",
       "    </tr>\n",
       "    <tr>\n",
       "      <th>2</th>\n",
       "      <td>1.0</td>\n",
       "      <td>4</td>\n",
       "      <td>4</td>\n",
       "      <td>140.0</td>\n",
       "      <td>4</td>\n",
       "      <td>2.8</td>\n",
       "    </tr>\n",
       "    <tr>\n",
       "      <th>3</th>\n",
       "      <td>1.0</td>\n",
       "      <td>5</td>\n",
       "      <td>3</td>\n",
       "      <td>79.0</td>\n",
       "      <td>3</td>\n",
       "      <td>2.8</td>\n",
       "    </tr>\n",
       "    <tr>\n",
       "      <th>4</th>\n",
       "      <td>1.0</td>\n",
       "      <td>9</td>\n",
       "      <td>1</td>\n",
       "      <td>45.0</td>\n",
       "      <td>2</td>\n",
       "      <td>2.8</td>\n",
       "    </tr>\n",
       "  </tbody>\n",
       "</table>\n",
       "</div>"
      ],
      "text/plain": [
       "   theta_zero  max_floor  num_rooms   area  floor  ceiling_height\n",
       "0         1.0         11          2   67.0      9             3.0\n",
       "1         1.0          5          3   75.0      2             3.2\n",
       "2         1.0          4          4  140.0      4             2.8\n",
       "3         1.0          5          3   79.0      3             2.8\n",
       "4         1.0          9          1   45.0      2             2.8"
      ]
     },
     "execution_count": 5,
     "metadata": {},
     "output_type": "execute_result"
    }
   ],
   "source": [
    "# Keep the features in df variable\n",
    "df = data[['max_floor','num_rooms','area','floor','ceiling_height']]\n",
    "\n",
    "# Keep the y (price) in target_var variable\n",
    "target_var = data['price']\n",
    "\n",
    "# Add a new column from left with ones for theta-zero\n",
    "df.insert(loc=0, column='theta_zero', value=np.ones(len(df)))\n",
    "\n",
    "#Show the result dataframe\n",
    "df.head()"
   ]
  },
  {
   "cell_type": "code",
   "execution_count": 6,
   "metadata": {},
   "outputs": [
    {
     "name": "stdout",
     "output_type": "stream",
     "text": [
      "thetas =  [0.4359949  0.02592623 0.54966248 0.43532239 0.4203678  0.33033482]\n",
      "predicted prices =  [35.7614234  36.76159997 66.28989341 38.79112342]\n",
      "loss =  43003928163803.164\n"
     ]
    }
   ],
   "source": [
    "# Define the learning rate\n",
    "alpha = 0.00001\n",
    "\n",
    "# Define the number of itterations\n",
    "n_iter = 100\n",
    "\n",
    "# Count the number of records\n",
    "size = df.shape[0]\n",
    "\n",
    "# Create an array for initial thetas (which are just random numbers)\n",
    "np.random.seed(2)\n",
    "thetas = np.random.rand(df.shape[1])\n",
    "\n",
    "# Create a new array in which will be the values predicted by random thetas\n",
    "predicted = np.dot(df,thetas)\n",
    "\n",
    "# Calculate the sum of the squared residuals (loss function)\n",
    "loss = sum((predicted - target_var)**2)\n",
    "\n",
    "# Print the results\n",
    "print(\"thetas = \",thetas)\n",
    "print(\"predicted prices = \",predicted[:4])\n",
    "print(\"loss = \",loss)"
   ]
  },
  {
   "cell_type": "code",
   "execution_count": 7,
   "metadata": {},
   "outputs": [],
   "source": [
    "# Create an array in which will be all the loss functions for every step\n",
    "Losses = []"
   ]
  },
  {
   "cell_type": "markdown",
   "metadata": {},
   "source": [
    "### Now let's create the model based on this equation"
   ]
  },
  {
   "cell_type": "markdown",
   "metadata": {},
   "source": [
    "<img src='https://cdn-images-1.medium.com/max/720/1*G3evFxIAlDchOx5Wl7bV5g.png'>"
   ]
  },
  {
   "cell_type": "code",
   "execution_count": 8,
   "metadata": {},
   "outputs": [],
   "source": [
    "# This loop is the same as in this picture. The difference is that I have 6 thetas instead of 2\n",
    "for i in np.arange(n_iter):\n",
    "    thetas[0] = thetas[0] - alpha*(1/size)*sum(predicted - target_var)\n",
    "    thetas[1] = thetas[1] - alpha*(1/size)*sum((predicted - target_var)*df['max_floor'])\n",
    "    thetas[2] = thetas[2] - alpha*(1/size)*sum((predicted - target_var)*df['num_rooms'])\n",
    "    thetas[3] = thetas[3] - alpha*(1/size)*sum((predicted - target_var)*df['area'])\n",
    "    thetas[4] = thetas[4] - alpha*(1/size)*sum((predicted - target_var)*df['floor'])\n",
    "    thetas[5] = thetas[5] - alpha*(1/size)*sum((predicted - target_var)*df['ceiling_height'])\n",
    "\n",
    "    \n",
    "    # Update the predicted values based on changed thetas\n",
    "    predicted = np.dot(df,thetas)\n",
    "    \n",
    "    # Calculate the loss again based on changed thetas\n",
    "    loss = sum((predicted - target_var)**2)\n",
    "    \n",
    "    # Add every new loss in this array (we are in the loop, don't forget :) \n",
    "    Losses.append(loss)"
   ]
  },
  {
   "cell_type": "code",
   "execution_count": 9,
   "metadata": {},
   "outputs": [],
   "source": [
    "\n",
    "\n",
    "# # This loop is the same as in this picture. The difference is that I have 6 thetas instead of 2\n",
    "# for i in np.arange(n_iter):\n",
    "#     thetas[0] = thetas[0] - (alpha*(1/size)*sum(predicted - target_var) + lamda* thetas[0]/np.sqrt(sum(thetas**2)) )\n",
    "#     thetas[1] = thetas[1] - (alpha*(1/size)*sum((predicted - target_var)*df['max_floor']) + lamda* thetas[1]/np.sqrt(sum(thetas**2)))\n",
    "#     thetas[2] = thetas[2] - (alpha*(1/size)*sum((predicted - target_var)*df['num_rooms']) + lamda* thetas[2]/np.sqrt(sum(thetas**2)))\n",
    "#     thetas[3] = thetas[3] - (alpha*(1/size)*sum((predicted - target_var)*df['area']) + lamda* thetas[3]/np.sqrt(sum(thetas**2)))\n",
    "#     thetas[4] = thetas[4] - (alpha*(1/size)*sum((predicted - target_var)*df['floor']) + lamda* thetas[4]/np.sqrt(sum(thetas**2)))\n",
    "#     thetas[5] = thetas[5] - (alpha*(1/size)*sum((predicted - target_var)*df['ceiling_height']) + lamda* thetas[5]/np.sqrt(sum(thetas**2)))\n",
    "\n",
    "    \n",
    "#     # Update the predicted values based on changed thetas\n",
    "#     predicted = np.dot(df,thetas)\n",
    "    \n",
    "#     # Calculate the loss again based on changed thetas\n",
    "#     loss = sum((predicted - target_var)**2) + lamda * np.sqrt(sum(thetas**2))\n",
    "    \n",
    "#     # Add every new loss in this array (we are in the loop, don't forget :) \n",
    "#     Losses.append(loss)"
   ]
  },
  {
   "cell_type": "code",
   "execution_count": 10,
   "metadata": {},
   "outputs": [
    {
     "data": {
      "text/plain": [
       "[<matplotlib.lines.Line2D at 0x7fdee9d2d1f0>]"
      ]
     },
     "execution_count": 10,
     "metadata": {},
     "output_type": "execute_result"
    },
    {
     "data": {
      "image/png": "[encoded data removed]",
      "text/plain": [
       "<Figure size 432x288 with 1 Axes>"
      ]
     },
     "metadata": {
      "needs_background": "light"
     },
     "output_type": "display_data"
    }
   ],
   "source": [
    "# We can plot the array filled with losses\n",
    "plt.plot(Losses)"
   ]
  },
  {
   "cell_type": "code",
   "execution_count": 11,
   "metadata": {},
   "outputs": [
    {
     "name": "stdout",
     "output_type": "stream",
     "text": [
      "Mean of errors = 652.0042449549925\n",
      "Thetas = [  10.2869281    93.01702526   28.36819433 1066.13619967   56.16656613\n",
      "   31.12709411]\n",
      "Minimum loss function =  7413474985897.624\n"
     ]
    }
   ],
   "source": [
    "print(\"Mean of errors =\",np.sqrt(loss)/size)\n",
    "print(\"Thetas =\", thetas)\n",
    "print(\"Minimum loss function = \", loss)"
   ]
  },
  {
   "cell_type": "code",
   "execution_count": null,
   "metadata": {},
   "outputs": [],
   "source": []
  }
 ],
 "metadata": {
  "kernelspec": {
   "display_name": "Python 3",
   "language": "python",
   "name": "python3"
  },
  "language_info": {
   "codemirror_mode": {
    "name": "ipython",
    "version": 3
   },
   "file_extension": ".py",
   "mimetype": "text/x-python",
   "name": "python",
   "nbconvert_exporter": "python",
   "pygments_lexer": "ipython3",
   "version": "3.8.8"
  }
 },
 "nbformat": 4,
 "nbformat_minor": 2
}
